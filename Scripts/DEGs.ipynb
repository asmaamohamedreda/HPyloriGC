{
  "nbformat": 4,
  "nbformat_minor": 0,
  "metadata": {
    "colab": {
      "provenance": []
    },
    "kernelspec": {
      "name": "ir",
      "display_name": "R"
    },
    "language_info": {
      "name": "R"
    }
  },
  "cells": [
    {
      "cell_type": "code",
      "execution_count": 1,
      "metadata": {
        "colab": {
          "base_uri": "https://localhost:8080/"
        },
        "id": "MQa2ypgrEi2g",
        "outputId": "7c6d4096-3e29-40c6-90ac-337ce5bdf9dc"
      },
      "outputs": [
        {
          "output_type": "stream",
          "name": "stdout",
          "text": [
            "Mounted at /content/drive\n"
          ]
        }
      ],
      "source": [
        "from google.colab import drive\n",
        "drive.mount('/content/drive')"
      ]
    },
    {
      "cell_type": "code",
      "source": [
        "%load_ext rpy2.ipython"
      ],
      "metadata": {
        "id": "v5ebrP8BEnEY"
      },
      "execution_count": 2,
      "outputs": []
    },
    {
      "cell_type": "code",
      "source": [
        "%%R\n",
        ".libPaths(c(\"/content/drive/MyDrive/Colab Notebooks/R_lib\", .libPaths()))"
      ],
      "metadata": {
        "id": "SD4Zqp-SEpY_"
      },
      "execution_count": 3,
      "outputs": []
    },
    {
      "cell_type": "code",
      "source": [
        ".libPaths(c(\"/content/drive/MyDrive/Colab Notebooks/R_lib\", .libPaths()))\n",
        "library(limma)\n",
        "library(dplyr)\n",
        "library(tidyverse)\n",
        "library(pheatmap)\n",
        "library(EnhancedVolcano)\n",
        "library(ggplot2)\n",
        "library(plotly)\n",
        "library(EnhancedVolcano)"
      ],
      "metadata": {
        "colab": {
          "base_uri": "https://localhost:8080/"
        },
        "id": "jfk8wxCaErhr",
        "outputId": "7cfa5759-4094-4b2b-a4b8-0eb059112feb"
      },
      "execution_count": 1,
      "outputs": [
        {
          "output_type": "stream",
          "name": "stderr",
          "text": [
            "\n",
            "Attaching package: ‘dplyr’\n",
            "\n",
            "\n",
            "The following objects are masked from ‘package:stats’:\n",
            "\n",
            "    filter, lag\n",
            "\n",
            "\n",
            "The following objects are masked from ‘package:base’:\n",
            "\n",
            "    intersect, setdiff, setequal, union\n",
            "\n",
            "\n",
            "── \u001b[1mAttaching core tidyverse packages\u001b[22m ──────────────────────── tidyverse 2.0.0 ──\n",
            "\u001b[32m✔\u001b[39m \u001b[34mforcats  \u001b[39m 1.0.0     \u001b[32m✔\u001b[39m \u001b[34mreadr    \u001b[39m 2.1.5\n",
            "\u001b[32m✔\u001b[39m \u001b[34mggplot2  \u001b[39m 3.5.1     \u001b[32m✔\u001b[39m \u001b[34mstringr  \u001b[39m 1.5.1\n",
            "\u001b[32m✔\u001b[39m \u001b[34mlubridate\u001b[39m 1.9.4     \u001b[32m✔\u001b[39m \u001b[34mtibble   \u001b[39m 3.2.1\n",
            "\u001b[32m✔\u001b[39m \u001b[34mpurrr    \u001b[39m 1.0.4     \u001b[32m✔\u001b[39m \u001b[34mtidyr    \u001b[39m 1.3.1\n",
            "── \u001b[1mConflicts\u001b[22m ────────────────────────────────────────── tidyverse_conflicts() ──\n",
            "\u001b[31m✖\u001b[39m \u001b[34mdplyr\u001b[39m::\u001b[32mfilter()\u001b[39m masks \u001b[34mstats\u001b[39m::filter()\n",
            "\u001b[31m✖\u001b[39m \u001b[34mdplyr\u001b[39m::\u001b[32mlag()\u001b[39m    masks \u001b[34mstats\u001b[39m::lag()\n",
            "\u001b[36mℹ\u001b[39m Use the conflicted package (\u001b[3m\u001b[34m<http://conflicted.r-lib.org/>\u001b[39m\u001b[23m) to force all conflicts to become errors\n",
            "Loading required package: ggrepel\n",
            "\n",
            "\n",
            "Attaching package: ‘plotly’\n",
            "\n",
            "\n",
            "The following object is masked from ‘package:ggplot2’:\n",
            "\n",
            "    last_plot\n",
            "\n",
            "\n",
            "The following object is masked from ‘package:stats’:\n",
            "\n",
            "    filter\n",
            "\n",
            "\n",
            "The following object is masked from ‘package:graphics’:\n",
            "\n",
            "    layout\n",
            "\n",
            "\n"
          ]
        }
      ]
    },
    {
      "cell_type": "code",
      "source": [
        "filtered_num_mat = read.csv('filtered_num_mat.csv', row.names = 1)\n",
        "exp_log = log2(filtered_num_mat + 1)\n",
        "\n",
        "exp_scaled_t = scale(t(exp_log))\n",
        "exp_scaled = t(exp_scaled_t)"
      ],
      "metadata": {
        "id": "sgzA6fGyEsEs"
      },
      "execution_count": 2,
      "outputs": []
    },
    {
      "cell_type": "code",
      "source": [
        "metadata = read.csv('metadata_GSE60427.csv')"
      ],
      "metadata": {
        "id": "1tBR1w1aExS-"
      },
      "execution_count": 3,
      "outputs": []
    },
    {
      "cell_type": "code",
      "source": [
        "unique(metadata$condition)\n",
        "\n",
        "selected_metadata2 = metadata[metadata$condition %in% c(\"H.P_Infection\", \"Control\"), ]\n",
        "dim(selected_metadata2)\n",
        "\n",
        "selected_columns2 = colnames(exp_scaled)[colnames(exp_scaled) %in% selected_metadata2$ID]\n",
        "\n",
        "filtered_data_scaled2 = exp_scaled[, selected_columns2]\n",
        "dim(filtered_data_scaled2)"
      ],
      "metadata": {
        "colab": {
          "base_uri": "https://localhost:8080/",
          "height": 69
        },
        "id": "ijJbYr_uEz2j",
        "outputId": "884899fb-26c3-4275-98ae-5e2479a55668"
      },
      "execution_count": 4,
      "outputs": [
        {
          "output_type": "display_data",
          "data": {
            "text/html": [
              "<style>\n",
              ".list-inline {list-style: none; margin:0; padding: 0}\n",
              ".list-inline>li {display: inline-block}\n",
              ".list-inline>li:not(:last-child)::after {content: \"\\00b7\"; padding: 0 .5ex}\n",
              "</style>\n",
              "<ol class=list-inline><li>'Control'</li><li>'H.P_Infection'</li><li>'H.P_Gastritis'</li><li>'IM'</li></ol>\n"
            ],
            "text/markdown": "1. 'Control'\n2. 'H.P_Infection'\n3. 'H.P_Gastritis'\n4. 'IM'\n\n\n",
            "text/latex": "\\begin{enumerate*}\n\\item 'Control'\n\\item 'H.P\\_Infection'\n\\item 'H.P\\_Gastritis'\n\\item 'IM'\n\\end{enumerate*}\n",
            "text/plain": [
              "[1] \"Control\"       \"H.P_Infection\" \"H.P_Gastritis\" \"IM\"           "
            ]
          },
          "metadata": {}
        },
        {
          "output_type": "display_data",
          "data": {
            "text/html": [
              "<style>\n",
              ".list-inline {list-style: none; margin:0; padding: 0}\n",
              ".list-inline>li {display: inline-block}\n",
              ".list-inline>li:not(:last-child)::after {content: \"\\00b7\"; padding: 0 .5ex}\n",
              "</style>\n",
              "<ol class=list-inline><li>16</li><li>4</li></ol>\n"
            ],
            "text/markdown": "1. 16\n2. 4\n\n\n",
            "text/latex": "\\begin{enumerate*}\n\\item 16\n\\item 4\n\\end{enumerate*}\n",
            "text/plain": [
              "[1] 16  4"
            ]
          },
          "metadata": {}
        },
        {
          "output_type": "display_data",
          "data": {
            "text/html": [
              "<style>\n",
              ".list-inline {list-style: none; margin:0; padding: 0}\n",
              ".list-inline>li {display: inline-block}\n",
              ".list-inline>li:not(:last-child)::after {content: \"\\00b7\"; padding: 0 .5ex}\n",
              "</style>\n",
              "<ol class=list-inline><li>28872</li><li>16</li></ol>\n"
            ],
            "text/markdown": "1. 28872\n2. 16\n\n\n",
            "text/latex": "\\begin{enumerate*}\n\\item 28872\n\\item 16\n\\end{enumerate*}\n",
            "text/plain": [
              "[1] 28872    16"
            ]
          },
          "metadata": {}
        }
      ]
    },
    {
      "cell_type": "code",
      "source": [
        "unique(selected_metadata2$condition)\n",
        "\n",
        "design = model.matrix(~ 0 + condition, data = selected_metadata2)\n",
        "\n",
        "colnames(design) <- gsub(\"condition\", \"\", colnames(design))\n",
        "\n",
        "unique(selected_metadata2$condition)\n",
        "\n",
        "# Fit the model\n",
        "fit = lmFit(filtered_data_scaled2, design)\n",
        "\n",
        "# Create contrasts for differential expression\n",
        "contrast_matrix = makeContrasts(H.PyloriInfection_Vs_Control = H.P_Infection - Control, levels = design)\n",
        "\n",
        "# Apply contrasts\n",
        "fit2 = contrasts.fit(fit, contrast_matrix)\n",
        "\n",
        "# Perform empirical Bayes moderation\n",
        "fit2 = eBayes(fit2)"
      ],
      "metadata": {
        "colab": {
          "base_uri": "https://localhost:8080/",
          "height": 52
        },
        "id": "rovFdAUnE40f",
        "outputId": "9084df25-6f84-4b29-f7ca-b44a7017ad60"
      },
      "execution_count": 5,
      "outputs": [
        {
          "output_type": "display_data",
          "data": {
            "text/html": [
              "<style>\n",
              ".list-inline {list-style: none; margin:0; padding: 0}\n",
              ".list-inline>li {display: inline-block}\n",
              ".list-inline>li:not(:last-child)::after {content: \"\\00b7\"; padding: 0 .5ex}\n",
              "</style>\n",
              "<ol class=list-inline><li>'Control'</li><li>'H.P_Infection'</li></ol>\n"
            ],
            "text/markdown": "1. 'Control'\n2. 'H.P_Infection'\n\n\n",
            "text/latex": "\\begin{enumerate*}\n\\item 'Control'\n\\item 'H.P\\_Infection'\n\\end{enumerate*}\n",
            "text/plain": [
              "[1] \"Control\"       \"H.P_Infection\""
            ]
          },
          "metadata": {}
        },
        {
          "output_type": "display_data",
          "data": {
            "text/html": [
              "<style>\n",
              ".list-inline {list-style: none; margin:0; padding: 0}\n",
              ".list-inline>li {display: inline-block}\n",
              ".list-inline>li:not(:last-child)::after {content: \"\\00b7\"; padding: 0 .5ex}\n",
              "</style>\n",
              "<ol class=list-inline><li>'Control'</li><li>'H.P_Infection'</li></ol>\n"
            ],
            "text/markdown": "1. 'Control'\n2. 'H.P_Infection'\n\n\n",
            "text/latex": "\\begin{enumerate*}\n\\item 'Control'\n\\item 'H.P\\_Infection'\n\\end{enumerate*}\n",
            "text/plain": [
              "[1] \"Control\"       \"H.P_Infection\""
            ]
          },
          "metadata": {}
        }
      ]
    },
    {
      "cell_type": "code",
      "source": [
        "results_H.PyloriInfection_Vs_Control = topTable(fit2, adjust.method = \"fdr\", number = Inf, sort.by = \"p\")\n",
        "\n",
        "# View DEGs\n",
        "results_H.PyloriInfection_Vs_Control"
      ],
      "metadata": {
        "colab": {
          "base_uri": "https://localhost:8080/",
          "height": 1000
        },
        "id": "Gn3yS921E6rV",
        "outputId": "99a917e5-70ed-4b3d-a4ac-9ab7b0bdb0be"
      },
      "execution_count": 6,
      "outputs": [
        {
          "output_type": "display_data",
          "data": {
            "text/html": [
              "<table class=\"dataframe\">\n",
              "<caption>A data.frame: 28872 × 6</caption>\n",
              "<thead>\n",
              "\t<tr><th></th><th scope=col>logFC</th><th scope=col>AveExpr</th><th scope=col>t</th><th scope=col>P.Value</th><th scope=col>adj.P.Val</th><th scope=col>B</th></tr>\n",
              "\t<tr><th></th><th scope=col>&lt;dbl&gt;</th><th scope=col>&lt;dbl&gt;</th><th scope=col>&lt;dbl&gt;</th><th scope=col>&lt;dbl&gt;</th><th scope=col>&lt;dbl&gt;</th><th scope=col>&lt;dbl&gt;</th></tr>\n",
              "</thead>\n",
              "<tbody>\n",
              "\t<tr><th scope=row>C4orf7</th><td>2.011147</td><td>-0.4776078</td><td>9.216323</td><td>3.683223e-08</td><td>0.001063420</td><td>8.711157</td></tr>\n",
              "\t<tr><th scope=row>CD180</th><td>1.904532</td><td>-0.5926451</td><td>8.578542</td><td>1.047834e-07</td><td>0.001512653</td><td>7.794675</td></tr>\n",
              "\t<tr><th scope=row>CD19</th><td>1.911310</td><td>-0.5733196</td><td>8.023891</td><td>2.710238e-07</td><td>0.001877313</td><td>6.948548</td></tr>\n",
              "\t<tr><th scope=row>LCN2</th><td>2.041719</td><td>-0.4898282</td><td>7.993378</td><td>2.858971e-07</td><td>0.001877313</td><td>6.900636</td></tr>\n",
              "\t<tr><th scope=row>FCRL2</th><td>1.939792</td><td>-0.5893029</td><td>7.920251</td><td>3.251097e-07</td><td>0.001877313</td><td>6.785227</td></tr>\n",
              "\t<tr><th scope=row>CR2</th><td>1.923676</td><td>-0.4793143</td><td>7.736375</td><td>4.505419e-07</td><td>0.002045413</td><td>6.491358</td></tr>\n",
              "\t<tr><th scope=row>CXCL13</th><td>1.891559</td><td>-0.4763117</td><td>7.560671</td><td>6.179563e-07</td><td>0.002045413</td><td>6.205607</td></tr>\n",
              "\t<tr><th scope=row>HLA-DRA</th><td>1.843104</td><td>-0.5222592</td><td>7.547494</td><td>6.328792e-07</td><td>0.002045413</td><td>6.183981</td></tr>\n",
              "\t<tr><th scope=row>FAM159A</th><td>1.755974</td><td>-0.5265288</td><td>7.501420</td><td>6.880727e-07</td><td>0.002045413</td><td>6.108152</td></tr>\n",
              "\t<tr><th scope=row>CXCL2</th><td>1.763746</td><td>-0.6279059</td><td>7.451512</td><td>7.535456e-07</td><td>0.002045413</td><td>6.025634</td></tr>\n",
              "\t<tr><th scope=row>CCL20</th><td>1.871929</td><td>-0.6209050</td><td>7.433116</td><td>7.792859e-07</td><td>0.002045413</td><td>5.995118</td></tr>\n",
              "\t<tr><th scope=row>CD74</th><td>1.810192</td><td>-0.5521986</td><td>7.298007</td><td>9.987044e-07</td><td>0.002402883</td><td>5.769358</td></tr>\n",
              "\t<tr><th scope=row>SLAMF1</th><td>1.702374</td><td>-0.5148323</td><td>7.124583</td><td>1.378162e-06</td><td>0.003016084</td><td>5.475334</td></tr>\n",
              "\t<tr><th scope=row>ZC3H12C</th><td>2.004406</td><td>-0.2200979</td><td>7.040717</td><td>1.612766e-06</td><td>0.003016084</td><td>5.331435</td></tr>\n",
              "\t<tr><th scope=row>TRAF3IP3</th><td>1.690484</td><td>-0.4995238</td><td>6.974042</td><td>1.828708e-06</td><td>0.003016084</td><td>5.216236</td></tr>\n",
              "\t<tr><th scope=row>C1orf228</th><td>1.859004</td><td>-0.4042614</td><td>6.966658</td><td>1.854404e-06</td><td>0.003016084</td><td>5.203435</td></tr>\n",
              "\t<tr><th scope=row>LOC100507042</th><td>1.929930</td><td>-0.2907074</td><td>6.954365</td><td>1.898016e-06</td><td>0.003016084</td><td>5.182105</td></tr>\n",
              "\t<tr><th scope=row>BTN2A2</th><td>1.635694</td><td>-0.6012455</td><td>6.938104</td><td>1.957348e-06</td><td>0.003016084</td><td>5.153852</td></tr>\n",
              "\t<tr><th scope=row>C3</th><td>1.923470</td><td>-0.4306637</td><td>6.898888</td><td>2.108491e-06</td><td>0.003016084</td><td>5.085542</td></tr>\n",
              "\t<tr><th scope=row>FCRL3</th><td>1.821632</td><td>-0.5018089</td><td>6.865839</td><td>2.245261e-06</td><td>0.003016084</td><td>5.027785</td></tr>\n",
              "\t<tr><th scope=row>HLA-DOB</th><td>1.717628</td><td>-0.6177125</td><td>6.831029</td><td>2.399305e-06</td><td>0.003016084</td><td>4.966764</td></tr>\n",
              "\t<tr><th scope=row>CXCR5</th><td>1.829756</td><td>-0.4892377</td><td>6.823528</td><td>2.433908e-06</td><td>0.003016084</td><td>4.953591</td></tr>\n",
              "\t<tr><th scope=row>SAMSN1</th><td>1.725649</td><td>-0.6322369</td><td>6.782712</td><td>2.631508e-06</td><td>0.003016084</td><td>4.881748</td></tr>\n",
              "\t<tr><th scope=row>HLA-DMA</th><td>1.696555</td><td>-0.5378477</td><td>6.760440</td><td>2.746277e-06</td><td>0.003016084</td><td>4.842435</td></tr>\n",
              "\t<tr><th scope=row>RAC2</th><td>1.721623</td><td>-0.5687508</td><td>6.708120</td><td>3.036769e-06</td><td>0.003016084</td><td>4.749776</td></tr>\n",
              "\t<tr><th scope=row>ADAMDEC1</th><td>1.846347</td><td>-0.6079213</td><td>6.694166</td><td>3.119506e-06</td><td>0.003016084</td><td>4.724990</td></tr>\n",
              "\t<tr><th scope=row>CD28</th><td>1.846976</td><td>-0.5038860</td><td>6.678637</td><td>3.214327e-06</td><td>0.003016084</td><td>4.697371</td></tr>\n",
              "\t<tr><th scope=row>CXCL1</th><td>1.731387</td><td>-0.6552032</td><td>6.657608</td><td>3.347524e-06</td><td>0.003016084</td><td>4.659909</td></tr>\n",
              "\t<tr><th scope=row>HLA-DMB</th><td>1.741406</td><td>-0.5661899</td><td>6.653816</td><td>3.372147e-06</td><td>0.003016084</td><td>4.653146</td></tr>\n",
              "\t<tr><th scope=row>PIGR</th><td>1.784165</td><td>-0.5250165</td><td>6.651372</td><td>3.388110e-06</td><td>0.003016084</td><td>4.648787</td></tr>\n",
              "\t<tr><th scope=row>⋮</th><td>⋮</td><td>⋮</td><td>⋮</td><td>⋮</td><td>⋮</td><td>⋮</td></tr>\n",
              "\t<tr><th scope=row>ADAMTS15</th><td>-7.486492e-04</td><td>-0.028019595</td><td>-2.105552e-03</td><td>0.9983436</td><td>0.9993474</td><td>-6.288173</td></tr>\n",
              "\t<tr><th scope=row>DENND4A</th><td> 9.399263e-04</td><td>-0.083198836</td><td> 1.983033e-03</td><td>0.9984400</td><td>0.9994093</td><td>-6.288174</td></tr>\n",
              "\t<tr><th scope=row>XLOC_l2_001233</th><td> 3.278214e-04</td><td>-0.180415705</td><td> 1.867511e-03</td><td>0.9985309</td><td>0.9994387</td><td>-6.288174</td></tr>\n",
              "\t<tr><th scope=row>XLOC_004701</th><td>-5.011238e-04</td><td>-0.052875354</td><td>-1.857605e-03</td><td>0.9985387</td><td>0.9994387</td><td>-6.288174</td></tr>\n",
              "\t<tr><th scope=row>ANO4</th><td> 9.218393e-04</td><td>-0.008463993</td><td> 1.750786e-03</td><td>0.9986227</td><td>0.9994882</td><td>-6.288174</td></tr>\n",
              "\t<tr><th scope=row>ZNF136</th><td> 8.955112e-04</td><td>-0.049084671</td><td> 1.697423e-03</td><td>0.9986647</td><td>0.9994955</td><td>-6.288174</td></tr>\n",
              "\t<tr><th scope=row>XLOC_003111</th><td>-6.774954e-04</td><td>-0.201100660</td><td>-1.643835e-03</td><td>0.9987069</td><td>0.9995031</td><td>-6.288174</td></tr>\n",
              "\t<tr><th scope=row>SLC4A2</th><td> 6.730649e-04</td><td>-0.144941104</td><td> 1.512089e-03</td><td>0.9988105</td><td>0.9995722</td><td>-6.288175</td></tr>\n",
              "\t<tr><th scope=row>TMEM208</th><td> 4.568341e-04</td><td>-0.315809013</td><td> 1.368728e-03</td><td>0.9989233</td><td>0.9996407</td><td>-6.288175</td></tr>\n",
              "\t<tr><th scope=row>SOX10</th><td> 7.279716e-04</td><td>-0.024301742</td><td> 1.336969e-03</td><td>0.9989483</td><td>0.9996407</td><td>-6.288175</td></tr>\n",
              "\t<tr><th scope=row>SLC35G5</th><td>-4.953191e-04</td><td>-0.113040313</td><td>-1.219707e-03</td><td>0.9990405</td><td>0.9996754</td><td>-6.288175</td></tr>\n",
              "\t<tr><th scope=row>IFNA4</th><td>-5.523140e-04</td><td> 0.095383159</td><td>-1.150864e-03</td><td>0.9990947</td><td>0.9996754</td><td>-6.288175</td></tr>\n",
              "\t<tr><th scope=row>XLOC_008152</th><td> 6.109154e-04</td><td> 0.137516393</td><td> 1.117708e-03</td><td>0.9991207</td><td>0.9996754</td><td>-6.288175</td></tr>\n",
              "\t<tr><th scope=row>COX7C</th><td>-4.422889e-04</td><td>-0.031581930</td><td>-1.037637e-03</td><td>0.9991837</td><td>0.9996754</td><td>-6.288175</td></tr>\n",
              "\t<tr><th scope=row>LOC100507427</th><td> 5.648167e-04</td><td> 0.138108240</td><td> 9.542581e-04</td><td>0.9992493</td><td>0.9996754</td><td>-6.288175</td></tr>\n",
              "\t<tr><th scope=row>XLOC_011397</th><td>-4.424320e-04</td><td>-0.066124192</td><td>-9.486229e-04</td><td>0.9992538</td><td>0.9996754</td><td>-6.288175</td></tr>\n",
              "\t<tr><th scope=row>LOC100506233</th><td> 5.194969e-04</td><td> 0.134323432</td><td> 9.478454e-04</td><td>0.9992544</td><td>0.9996754</td><td>-6.288175</td></tr>\n",
              "\t<tr><th scope=row>ZC3H14</th><td> 4.162023e-04</td><td> 0.227799098</td><td> 9.408459e-04</td><td>0.9992599</td><td>0.9996754</td><td>-6.288175</td></tr>\n",
              "\t<tr><th scope=row>XLOC_010372</th><td> 3.849602e-04</td><td> 0.042651061</td><td> 8.721162e-04</td><td>0.9993139</td><td>0.9996948</td><td>-6.288175</td></tr>\n",
              "\t<tr><th scope=row>GGTLC1</th><td>-3.848166e-04</td><td>-0.284133840</td><td>-8.268325e-04</td><td>0.9993496</td><td>0.9996958</td><td>-6.288175</td></tr>\n",
              "\t<tr><th scope=row>PPAPDC3</th><td>-4.202993e-04</td><td>-0.310781885</td><td>-7.780038e-04</td><td>0.9993880</td><td>0.9996996</td><td>-6.288175</td></tr>\n",
              "\t<tr><th scope=row>ZNF167</th><td>-2.138561e-04</td><td> 0.289824614</td><td>-5.863120e-04</td><td>0.9995388</td><td>0.9997813</td><td>-6.288176</td></tr>\n",
              "\t<tr><th scope=row>SV2A</th><td> 3.107487e-04</td><td> 0.374614701</td><td> 5.861017e-04</td><td>0.9995389</td><td>0.9997813</td><td>-6.288176</td></tr>\n",
              "\t<tr><th scope=row>LOC497256</th><td> 2.426531e-04</td><td>-0.270485383</td><td> 4.303649e-04</td><td>0.9996614</td><td>0.9998692</td><td>-6.288176</td></tr>\n",
              "\t<tr><th scope=row>SCARNA13</th><td>-1.718767e-04</td><td> 0.061455992</td><td>-3.332959e-04</td><td>0.9997378</td><td>0.9999110</td><td>-6.288176</td></tr>\n",
              "\t<tr><th scope=row>LOC728392</th><td> 1.195690e-04</td><td> 0.171290254</td><td> 2.551781e-04</td><td>0.9997993</td><td>0.9999143</td><td>-6.288176</td></tr>\n",
              "\t<tr><th scope=row>SLC38A3</th><td>-7.723633e-05</td><td> 0.238750405</td><td>-2.248555e-04</td><td>0.9998231</td><td>0.9999143</td><td>-6.288176</td></tr>\n",
              "\t<tr><th scope=row>XLOC_002912</th><td> 1.199242e-04</td><td> 0.150027114</td><td> 1.969732e-04</td><td>0.9998450</td><td>0.9999143</td><td>-6.288176</td></tr>\n",
              "\t<tr><th scope=row>LOC100506214</th><td> 3.357489e-05</td><td>-0.034129782</td><td> 6.834611e-05</td><td>0.9999462</td><td>0.9999635</td><td>-6.288176</td></tr>\n",
              "\t<tr><th scope=row>LOC284379</th><td> 2.190108e-05</td><td> 0.166920938</td><td> 4.640017e-05</td><td>0.9999635</td><td>0.9999635</td><td>-6.288176</td></tr>\n",
              "</tbody>\n",
              "</table>\n"
            ],
            "text/markdown": "\nA data.frame: 28872 × 6\n\n| <!--/--> | logFC &lt;dbl&gt; | AveExpr &lt;dbl&gt; | t &lt;dbl&gt; | P.Value &lt;dbl&gt; | adj.P.Val &lt;dbl&gt; | B &lt;dbl&gt; |\n|---|---|---|---|---|---|---|\n| C4orf7 | 2.011147 | -0.4776078 | 9.216323 | 3.683223e-08 | 0.001063420 | 8.711157 |\n| CD180 | 1.904532 | -0.5926451 | 8.578542 | 1.047834e-07 | 0.001512653 | 7.794675 |\n| CD19 | 1.911310 | -0.5733196 | 8.023891 | 2.710238e-07 | 0.001877313 | 6.948548 |\n| LCN2 | 2.041719 | -0.4898282 | 7.993378 | 2.858971e-07 | 0.001877313 | 6.900636 |\n| FCRL2 | 1.939792 | -0.5893029 | 7.920251 | 3.251097e-07 | 0.001877313 | 6.785227 |\n| CR2 | 1.923676 | -0.4793143 | 7.736375 | 4.505419e-07 | 0.002045413 | 6.491358 |\n| CXCL13 | 1.891559 | -0.4763117 | 7.560671 | 6.179563e-07 | 0.002045413 | 6.205607 |\n| HLA-DRA | 1.843104 | -0.5222592 | 7.547494 | 6.328792e-07 | 0.002045413 | 6.183981 |\n| FAM159A | 1.755974 | -0.5265288 | 7.501420 | 6.880727e-07 | 0.002045413 | 6.108152 |\n| CXCL2 | 1.763746 | -0.6279059 | 7.451512 | 7.535456e-07 | 0.002045413 | 6.025634 |\n| CCL20 | 1.871929 | -0.6209050 | 7.433116 | 7.792859e-07 | 0.002045413 | 5.995118 |\n| CD74 | 1.810192 | -0.5521986 | 7.298007 | 9.987044e-07 | 0.002402883 | 5.769358 |\n| SLAMF1 | 1.702374 | -0.5148323 | 7.124583 | 1.378162e-06 | 0.003016084 | 5.475334 |\n| ZC3H12C | 2.004406 | -0.2200979 | 7.040717 | 1.612766e-06 | 0.003016084 | 5.331435 |\n| TRAF3IP3 | 1.690484 | -0.4995238 | 6.974042 | 1.828708e-06 | 0.003016084 | 5.216236 |\n| C1orf228 | 1.859004 | -0.4042614 | 6.966658 | 1.854404e-06 | 0.003016084 | 5.203435 |\n| LOC100507042 | 1.929930 | -0.2907074 | 6.954365 | 1.898016e-06 | 0.003016084 | 5.182105 |\n| BTN2A2 | 1.635694 | -0.6012455 | 6.938104 | 1.957348e-06 | 0.003016084 | 5.153852 |\n| C3 | 1.923470 | -0.4306637 | 6.898888 | 2.108491e-06 | 0.003016084 | 5.085542 |\n| FCRL3 | 1.821632 | -0.5018089 | 6.865839 | 2.245261e-06 | 0.003016084 | 5.027785 |\n| HLA-DOB | 1.717628 | -0.6177125 | 6.831029 | 2.399305e-06 | 0.003016084 | 4.966764 |\n| CXCR5 | 1.829756 | -0.4892377 | 6.823528 | 2.433908e-06 | 0.003016084 | 4.953591 |\n| SAMSN1 | 1.725649 | -0.6322369 | 6.782712 | 2.631508e-06 | 0.003016084 | 4.881748 |\n| HLA-DMA | 1.696555 | -0.5378477 | 6.760440 | 2.746277e-06 | 0.003016084 | 4.842435 |\n| RAC2 | 1.721623 | -0.5687508 | 6.708120 | 3.036769e-06 | 0.003016084 | 4.749776 |\n| ADAMDEC1 | 1.846347 | -0.6079213 | 6.694166 | 3.119506e-06 | 0.003016084 | 4.724990 |\n| CD28 | 1.846976 | -0.5038860 | 6.678637 | 3.214327e-06 | 0.003016084 | 4.697371 |\n| CXCL1 | 1.731387 | -0.6552032 | 6.657608 | 3.347524e-06 | 0.003016084 | 4.659909 |\n| HLA-DMB | 1.741406 | -0.5661899 | 6.653816 | 3.372147e-06 | 0.003016084 | 4.653146 |\n| PIGR | 1.784165 | -0.5250165 | 6.651372 | 3.388110e-06 | 0.003016084 | 4.648787 |\n| ⋮ | ⋮ | ⋮ | ⋮ | ⋮ | ⋮ | ⋮ |\n| ADAMTS15 | -7.486492e-04 | -0.028019595 | -2.105552e-03 | 0.9983436 | 0.9993474 | -6.288173 |\n| DENND4A |  9.399263e-04 | -0.083198836 |  1.983033e-03 | 0.9984400 | 0.9994093 | -6.288174 |\n| XLOC_l2_001233 |  3.278214e-04 | -0.180415705 |  1.867511e-03 | 0.9985309 | 0.9994387 | -6.288174 |\n| XLOC_004701 | -5.011238e-04 | -0.052875354 | -1.857605e-03 | 0.9985387 | 0.9994387 | -6.288174 |\n| ANO4 |  9.218393e-04 | -0.008463993 |  1.750786e-03 | 0.9986227 | 0.9994882 | -6.288174 |\n| ZNF136 |  8.955112e-04 | -0.049084671 |  1.697423e-03 | 0.9986647 | 0.9994955 | -6.288174 |\n| XLOC_003111 | -6.774954e-04 | -0.201100660 | -1.643835e-03 | 0.9987069 | 0.9995031 | -6.288174 |\n| SLC4A2 |  6.730649e-04 | -0.144941104 |  1.512089e-03 | 0.9988105 | 0.9995722 | -6.288175 |\n| TMEM208 |  4.568341e-04 | -0.315809013 |  1.368728e-03 | 0.9989233 | 0.9996407 | -6.288175 |\n| SOX10 |  7.279716e-04 | -0.024301742 |  1.336969e-03 | 0.9989483 | 0.9996407 | -6.288175 |\n| SLC35G5 | -4.953191e-04 | -0.113040313 | -1.219707e-03 | 0.9990405 | 0.9996754 | -6.288175 |\n| IFNA4 | -5.523140e-04 |  0.095383159 | -1.150864e-03 | 0.9990947 | 0.9996754 | -6.288175 |\n| XLOC_008152 |  6.109154e-04 |  0.137516393 |  1.117708e-03 | 0.9991207 | 0.9996754 | -6.288175 |\n| COX7C | -4.422889e-04 | -0.031581930 | -1.037637e-03 | 0.9991837 | 0.9996754 | -6.288175 |\n| LOC100507427 |  5.648167e-04 |  0.138108240 |  9.542581e-04 | 0.9992493 | 0.9996754 | -6.288175 |\n| XLOC_011397 | -4.424320e-04 | -0.066124192 | -9.486229e-04 | 0.9992538 | 0.9996754 | -6.288175 |\n| LOC100506233 |  5.194969e-04 |  0.134323432 |  9.478454e-04 | 0.9992544 | 0.9996754 | -6.288175 |\n| ZC3H14 |  4.162023e-04 |  0.227799098 |  9.408459e-04 | 0.9992599 | 0.9996754 | -6.288175 |\n| XLOC_010372 |  3.849602e-04 |  0.042651061 |  8.721162e-04 | 0.9993139 | 0.9996948 | -6.288175 |\n| GGTLC1 | -3.848166e-04 | -0.284133840 | -8.268325e-04 | 0.9993496 | 0.9996958 | -6.288175 |\n| PPAPDC3 | -4.202993e-04 | -0.310781885 | -7.780038e-04 | 0.9993880 | 0.9996996 | -6.288175 |\n| ZNF167 | -2.138561e-04 |  0.289824614 | -5.863120e-04 | 0.9995388 | 0.9997813 | -6.288176 |\n| SV2A |  3.107487e-04 |  0.374614701 |  5.861017e-04 | 0.9995389 | 0.9997813 | -6.288176 |\n| LOC497256 |  2.426531e-04 | -0.270485383 |  4.303649e-04 | 0.9996614 | 0.9998692 | -6.288176 |\n| SCARNA13 | -1.718767e-04 |  0.061455992 | -3.332959e-04 | 0.9997378 | 0.9999110 | -6.288176 |\n| LOC728392 |  1.195690e-04 |  0.171290254 |  2.551781e-04 | 0.9997993 | 0.9999143 | -6.288176 |\n| SLC38A3 | -7.723633e-05 |  0.238750405 | -2.248555e-04 | 0.9998231 | 0.9999143 | -6.288176 |\n| XLOC_002912 |  1.199242e-04 |  0.150027114 |  1.969732e-04 | 0.9998450 | 0.9999143 | -6.288176 |\n| LOC100506214 |  3.357489e-05 | -0.034129782 |  6.834611e-05 | 0.9999462 | 0.9999635 | -6.288176 |\n| LOC284379 |  2.190108e-05 |  0.166920938 |  4.640017e-05 | 0.9999635 | 0.9999635 | -6.288176 |\n\n",
            "text/latex": "A data.frame: 28872 × 6\n\\begin{tabular}{r|llllll}\n  & logFC & AveExpr & t & P.Value & adj.P.Val & B\\\\\n  & <dbl> & <dbl> & <dbl> & <dbl> & <dbl> & <dbl>\\\\\n\\hline\n\tC4orf7 & 2.011147 & -0.4776078 & 9.216323 & 3.683223e-08 & 0.001063420 & 8.711157\\\\\n\tCD180 & 1.904532 & -0.5926451 & 8.578542 & 1.047834e-07 & 0.001512653 & 7.794675\\\\\n\tCD19 & 1.911310 & -0.5733196 & 8.023891 & 2.710238e-07 & 0.001877313 & 6.948548\\\\\n\tLCN2 & 2.041719 & -0.4898282 & 7.993378 & 2.858971e-07 & 0.001877313 & 6.900636\\\\\n\tFCRL2 & 1.939792 & -0.5893029 & 7.920251 & 3.251097e-07 & 0.001877313 & 6.785227\\\\\n\tCR2 & 1.923676 & -0.4793143 & 7.736375 & 4.505419e-07 & 0.002045413 & 6.491358\\\\\n\tCXCL13 & 1.891559 & -0.4763117 & 7.560671 & 6.179563e-07 & 0.002045413 & 6.205607\\\\\n\tHLA-DRA & 1.843104 & -0.5222592 & 7.547494 & 6.328792e-07 & 0.002045413 & 6.183981\\\\\n\tFAM159A & 1.755974 & -0.5265288 & 7.501420 & 6.880727e-07 & 0.002045413 & 6.108152\\\\\n\tCXCL2 & 1.763746 & -0.6279059 & 7.451512 & 7.535456e-07 & 0.002045413 & 6.025634\\\\\n\tCCL20 & 1.871929 & -0.6209050 & 7.433116 & 7.792859e-07 & 0.002045413 & 5.995118\\\\\n\tCD74 & 1.810192 & -0.5521986 & 7.298007 & 9.987044e-07 & 0.002402883 & 5.769358\\\\\n\tSLAMF1 & 1.702374 & -0.5148323 & 7.124583 & 1.378162e-06 & 0.003016084 & 5.475334\\\\\n\tZC3H12C & 2.004406 & -0.2200979 & 7.040717 & 1.612766e-06 & 0.003016084 & 5.331435\\\\\n\tTRAF3IP3 & 1.690484 & -0.4995238 & 6.974042 & 1.828708e-06 & 0.003016084 & 5.216236\\\\\n\tC1orf228 & 1.859004 & -0.4042614 & 6.966658 & 1.854404e-06 & 0.003016084 & 5.203435\\\\\n\tLOC100507042 & 1.929930 & -0.2907074 & 6.954365 & 1.898016e-06 & 0.003016084 & 5.182105\\\\\n\tBTN2A2 & 1.635694 & -0.6012455 & 6.938104 & 1.957348e-06 & 0.003016084 & 5.153852\\\\\n\tC3 & 1.923470 & -0.4306637 & 6.898888 & 2.108491e-06 & 0.003016084 & 5.085542\\\\\n\tFCRL3 & 1.821632 & -0.5018089 & 6.865839 & 2.245261e-06 & 0.003016084 & 5.027785\\\\\n\tHLA-DOB & 1.717628 & -0.6177125 & 6.831029 & 2.399305e-06 & 0.003016084 & 4.966764\\\\\n\tCXCR5 & 1.829756 & -0.4892377 & 6.823528 & 2.433908e-06 & 0.003016084 & 4.953591\\\\\n\tSAMSN1 & 1.725649 & -0.6322369 & 6.782712 & 2.631508e-06 & 0.003016084 & 4.881748\\\\\n\tHLA-DMA & 1.696555 & -0.5378477 & 6.760440 & 2.746277e-06 & 0.003016084 & 4.842435\\\\\n\tRAC2 & 1.721623 & -0.5687508 & 6.708120 & 3.036769e-06 & 0.003016084 & 4.749776\\\\\n\tADAMDEC1 & 1.846347 & -0.6079213 & 6.694166 & 3.119506e-06 & 0.003016084 & 4.724990\\\\\n\tCD28 & 1.846976 & -0.5038860 & 6.678637 & 3.214327e-06 & 0.003016084 & 4.697371\\\\\n\tCXCL1 & 1.731387 & -0.6552032 & 6.657608 & 3.347524e-06 & 0.003016084 & 4.659909\\\\\n\tHLA-DMB & 1.741406 & -0.5661899 & 6.653816 & 3.372147e-06 & 0.003016084 & 4.653146\\\\\n\tPIGR & 1.784165 & -0.5250165 & 6.651372 & 3.388110e-06 & 0.003016084 & 4.648787\\\\\n\t⋮ & ⋮ & ⋮ & ⋮ & ⋮ & ⋮ & ⋮\\\\\n\tADAMTS15 & -7.486492e-04 & -0.028019595 & -2.105552e-03 & 0.9983436 & 0.9993474 & -6.288173\\\\\n\tDENND4A &  9.399263e-04 & -0.083198836 &  1.983033e-03 & 0.9984400 & 0.9994093 & -6.288174\\\\\n\tXLOC\\_l2\\_001233 &  3.278214e-04 & -0.180415705 &  1.867511e-03 & 0.9985309 & 0.9994387 & -6.288174\\\\\n\tXLOC\\_004701 & -5.011238e-04 & -0.052875354 & -1.857605e-03 & 0.9985387 & 0.9994387 & -6.288174\\\\\n\tANO4 &  9.218393e-04 & -0.008463993 &  1.750786e-03 & 0.9986227 & 0.9994882 & -6.288174\\\\\n\tZNF136 &  8.955112e-04 & -0.049084671 &  1.697423e-03 & 0.9986647 & 0.9994955 & -6.288174\\\\\n\tXLOC\\_003111 & -6.774954e-04 & -0.201100660 & -1.643835e-03 & 0.9987069 & 0.9995031 & -6.288174\\\\\n\tSLC4A2 &  6.730649e-04 & -0.144941104 &  1.512089e-03 & 0.9988105 & 0.9995722 & -6.288175\\\\\n\tTMEM208 &  4.568341e-04 & -0.315809013 &  1.368728e-03 & 0.9989233 & 0.9996407 & -6.288175\\\\\n\tSOX10 &  7.279716e-04 & -0.024301742 &  1.336969e-03 & 0.9989483 & 0.9996407 & -6.288175\\\\\n\tSLC35G5 & -4.953191e-04 & -0.113040313 & -1.219707e-03 & 0.9990405 & 0.9996754 & -6.288175\\\\\n\tIFNA4 & -5.523140e-04 &  0.095383159 & -1.150864e-03 & 0.9990947 & 0.9996754 & -6.288175\\\\\n\tXLOC\\_008152 &  6.109154e-04 &  0.137516393 &  1.117708e-03 & 0.9991207 & 0.9996754 & -6.288175\\\\\n\tCOX7C & -4.422889e-04 & -0.031581930 & -1.037637e-03 & 0.9991837 & 0.9996754 & -6.288175\\\\\n\tLOC100507427 &  5.648167e-04 &  0.138108240 &  9.542581e-04 & 0.9992493 & 0.9996754 & -6.288175\\\\\n\tXLOC\\_011397 & -4.424320e-04 & -0.066124192 & -9.486229e-04 & 0.9992538 & 0.9996754 & -6.288175\\\\\n\tLOC100506233 &  5.194969e-04 &  0.134323432 &  9.478454e-04 & 0.9992544 & 0.9996754 & -6.288175\\\\\n\tZC3H14 &  4.162023e-04 &  0.227799098 &  9.408459e-04 & 0.9992599 & 0.9996754 & -6.288175\\\\\n\tXLOC\\_010372 &  3.849602e-04 &  0.042651061 &  8.721162e-04 & 0.9993139 & 0.9996948 & -6.288175\\\\\n\tGGTLC1 & -3.848166e-04 & -0.284133840 & -8.268325e-04 & 0.9993496 & 0.9996958 & -6.288175\\\\\n\tPPAPDC3 & -4.202993e-04 & -0.310781885 & -7.780038e-04 & 0.9993880 & 0.9996996 & -6.288175\\\\\n\tZNF167 & -2.138561e-04 &  0.289824614 & -5.863120e-04 & 0.9995388 & 0.9997813 & -6.288176\\\\\n\tSV2A &  3.107487e-04 &  0.374614701 &  5.861017e-04 & 0.9995389 & 0.9997813 & -6.288176\\\\\n\tLOC497256 &  2.426531e-04 & -0.270485383 &  4.303649e-04 & 0.9996614 & 0.9998692 & -6.288176\\\\\n\tSCARNA13 & -1.718767e-04 &  0.061455992 & -3.332959e-04 & 0.9997378 & 0.9999110 & -6.288176\\\\\n\tLOC728392 &  1.195690e-04 &  0.171290254 &  2.551781e-04 & 0.9997993 & 0.9999143 & -6.288176\\\\\n\tSLC38A3 & -7.723633e-05 &  0.238750405 & -2.248555e-04 & 0.9998231 & 0.9999143 & -6.288176\\\\\n\tXLOC\\_002912 &  1.199242e-04 &  0.150027114 &  1.969732e-04 & 0.9998450 & 0.9999143 & -6.288176\\\\\n\tLOC100506214 &  3.357489e-05 & -0.034129782 &  6.834611e-05 & 0.9999462 & 0.9999635 & -6.288176\\\\\n\tLOC284379 &  2.190108e-05 &  0.166920938 &  4.640017e-05 & 0.9999635 & 0.9999635 & -6.288176\\\\\n\\end{tabular}\n",
            "text/plain": [
              "               logFC         AveExpr      t             P.Value     \n",
              "C4orf7         2.011147      -0.4776078   9.216323      3.683223e-08\n",
              "CD180          1.904532      -0.5926451   8.578542      1.047834e-07\n",
              "CD19           1.911310      -0.5733196   8.023891      2.710238e-07\n",
              "LCN2           2.041719      -0.4898282   7.993378      2.858971e-07\n",
              "FCRL2          1.939792      -0.5893029   7.920251      3.251097e-07\n",
              "CR2            1.923676      -0.4793143   7.736375      4.505419e-07\n",
              "CXCL13         1.891559      -0.4763117   7.560671      6.179563e-07\n",
              "HLA-DRA        1.843104      -0.5222592   7.547494      6.328792e-07\n",
              "FAM159A        1.755974      -0.5265288   7.501420      6.880727e-07\n",
              "CXCL2          1.763746      -0.6279059   7.451512      7.535456e-07\n",
              "CCL20          1.871929      -0.6209050   7.433116      7.792859e-07\n",
              "CD74           1.810192      -0.5521986   7.298007      9.987044e-07\n",
              "SLAMF1         1.702374      -0.5148323   7.124583      1.378162e-06\n",
              "ZC3H12C        2.004406      -0.2200979   7.040717      1.612766e-06\n",
              "TRAF3IP3       1.690484      -0.4995238   6.974042      1.828708e-06\n",
              "C1orf228       1.859004      -0.4042614   6.966658      1.854404e-06\n",
              "LOC100507042   1.929930      -0.2907074   6.954365      1.898016e-06\n",
              "BTN2A2         1.635694      -0.6012455   6.938104      1.957348e-06\n",
              "C3             1.923470      -0.4306637   6.898888      2.108491e-06\n",
              "FCRL3          1.821632      -0.5018089   6.865839      2.245261e-06\n",
              "HLA-DOB        1.717628      -0.6177125   6.831029      2.399305e-06\n",
              "CXCR5          1.829756      -0.4892377   6.823528      2.433908e-06\n",
              "SAMSN1         1.725649      -0.6322369   6.782712      2.631508e-06\n",
              "HLA-DMA        1.696555      -0.5378477   6.760440      2.746277e-06\n",
              "RAC2           1.721623      -0.5687508   6.708120      3.036769e-06\n",
              "ADAMDEC1       1.846347      -0.6079213   6.694166      3.119506e-06\n",
              "CD28           1.846976      -0.5038860   6.678637      3.214327e-06\n",
              "CXCL1          1.731387      -0.6552032   6.657608      3.347524e-06\n",
              "HLA-DMB        1.741406      -0.5661899   6.653816      3.372147e-06\n",
              "PIGR           1.784165      -0.5250165   6.651372      3.388110e-06\n",
              "⋮              ⋮             ⋮            ⋮             ⋮           \n",
              "ADAMTS15       -7.486492e-04 -0.028019595 -2.105552e-03 0.9983436   \n",
              "DENND4A         9.399263e-04 -0.083198836  1.983033e-03 0.9984400   \n",
              "XLOC_l2_001233  3.278214e-04 -0.180415705  1.867511e-03 0.9985309   \n",
              "XLOC_004701    -5.011238e-04 -0.052875354 -1.857605e-03 0.9985387   \n",
              "ANO4            9.218393e-04 -0.008463993  1.750786e-03 0.9986227   \n",
              "ZNF136          8.955112e-04 -0.049084671  1.697423e-03 0.9986647   \n",
              "XLOC_003111    -6.774954e-04 -0.201100660 -1.643835e-03 0.9987069   \n",
              "SLC4A2          6.730649e-04 -0.144941104  1.512089e-03 0.9988105   \n",
              "TMEM208         4.568341e-04 -0.315809013  1.368728e-03 0.9989233   \n",
              "SOX10           7.279716e-04 -0.024301742  1.336969e-03 0.9989483   \n",
              "SLC35G5        -4.953191e-04 -0.113040313 -1.219707e-03 0.9990405   \n",
              "IFNA4          -5.523140e-04  0.095383159 -1.150864e-03 0.9990947   \n",
              "XLOC_008152     6.109154e-04  0.137516393  1.117708e-03 0.9991207   \n",
              "COX7C          -4.422889e-04 -0.031581930 -1.037637e-03 0.9991837   \n",
              "LOC100507427    5.648167e-04  0.138108240  9.542581e-04 0.9992493   \n",
              "XLOC_011397    -4.424320e-04 -0.066124192 -9.486229e-04 0.9992538   \n",
              "LOC100506233    5.194969e-04  0.134323432  9.478454e-04 0.9992544   \n",
              "ZC3H14          4.162023e-04  0.227799098  9.408459e-04 0.9992599   \n",
              "XLOC_010372     3.849602e-04  0.042651061  8.721162e-04 0.9993139   \n",
              "GGTLC1         -3.848166e-04 -0.284133840 -8.268325e-04 0.9993496   \n",
              "PPAPDC3        -4.202993e-04 -0.310781885 -7.780038e-04 0.9993880   \n",
              "ZNF167         -2.138561e-04  0.289824614 -5.863120e-04 0.9995388   \n",
              "SV2A            3.107487e-04  0.374614701  5.861017e-04 0.9995389   \n",
              "LOC497256       2.426531e-04 -0.270485383  4.303649e-04 0.9996614   \n",
              "SCARNA13       -1.718767e-04  0.061455992 -3.332959e-04 0.9997378   \n",
              "LOC728392       1.195690e-04  0.171290254  2.551781e-04 0.9997993   \n",
              "SLC38A3        -7.723633e-05  0.238750405 -2.248555e-04 0.9998231   \n",
              "XLOC_002912     1.199242e-04  0.150027114  1.969732e-04 0.9998450   \n",
              "LOC100506214    3.357489e-05 -0.034129782  6.834611e-05 0.9999462   \n",
              "LOC284379       2.190108e-05  0.166920938  4.640017e-05 0.9999635   \n",
              "               adj.P.Val   B        \n",
              "C4orf7         0.001063420 8.711157 \n",
              "CD180          0.001512653 7.794675 \n",
              "CD19           0.001877313 6.948548 \n",
              "LCN2           0.001877313 6.900636 \n",
              "FCRL2          0.001877313 6.785227 \n",
              "CR2            0.002045413 6.491358 \n",
              "CXCL13         0.002045413 6.205607 \n",
              "HLA-DRA        0.002045413 6.183981 \n",
              "FAM159A        0.002045413 6.108152 \n",
              "CXCL2          0.002045413 6.025634 \n",
              "CCL20          0.002045413 5.995118 \n",
              "CD74           0.002402883 5.769358 \n",
              "SLAMF1         0.003016084 5.475334 \n",
              "ZC3H12C        0.003016084 5.331435 \n",
              "TRAF3IP3       0.003016084 5.216236 \n",
              "C1orf228       0.003016084 5.203435 \n",
              "LOC100507042   0.003016084 5.182105 \n",
              "BTN2A2         0.003016084 5.153852 \n",
              "C3             0.003016084 5.085542 \n",
              "FCRL3          0.003016084 5.027785 \n",
              "HLA-DOB        0.003016084 4.966764 \n",
              "CXCR5          0.003016084 4.953591 \n",
              "SAMSN1         0.003016084 4.881748 \n",
              "HLA-DMA        0.003016084 4.842435 \n",
              "RAC2           0.003016084 4.749776 \n",
              "ADAMDEC1       0.003016084 4.724990 \n",
              "CD28           0.003016084 4.697371 \n",
              "CXCL1          0.003016084 4.659909 \n",
              "HLA-DMB        0.003016084 4.653146 \n",
              "PIGR           0.003016084 4.648787 \n",
              "⋮              ⋮           ⋮        \n",
              "ADAMTS15       0.9993474   -6.288173\n",
              "DENND4A        0.9994093   -6.288174\n",
              "XLOC_l2_001233 0.9994387   -6.288174\n",
              "XLOC_004701    0.9994387   -6.288174\n",
              "ANO4           0.9994882   -6.288174\n",
              "ZNF136         0.9994955   -6.288174\n",
              "XLOC_003111    0.9995031   -6.288174\n",
              "SLC4A2         0.9995722   -6.288175\n",
              "TMEM208        0.9996407   -6.288175\n",
              "SOX10          0.9996407   -6.288175\n",
              "SLC35G5        0.9996754   -6.288175\n",
              "IFNA4          0.9996754   -6.288175\n",
              "XLOC_008152    0.9996754   -6.288175\n",
              "COX7C          0.9996754   -6.288175\n",
              "LOC100507427   0.9996754   -6.288175\n",
              "XLOC_011397    0.9996754   -6.288175\n",
              "LOC100506233   0.9996754   -6.288175\n",
              "ZC3H14         0.9996754   -6.288175\n",
              "XLOC_010372    0.9996948   -6.288175\n",
              "GGTLC1         0.9996958   -6.288175\n",
              "PPAPDC3        0.9996996   -6.288175\n",
              "ZNF167         0.9997813   -6.288176\n",
              "SV2A           0.9997813   -6.288176\n",
              "LOC497256      0.9998692   -6.288176\n",
              "SCARNA13       0.9999110   -6.288176\n",
              "LOC728392      0.9999143   -6.288176\n",
              "SLC38A3        0.9999143   -6.288176\n",
              "XLOC_002912    0.9999143   -6.288176\n",
              "LOC100506214   0.9999635   -6.288176\n",
              "LOC284379      0.9999635   -6.288176"
            ]
          },
          "metadata": {}
        }
      ]
    }
  ]
}